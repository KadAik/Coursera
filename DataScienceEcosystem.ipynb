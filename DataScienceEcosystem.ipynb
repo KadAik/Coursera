{
 "cells": [
  {
   "cell_type": "markdown",
   "id": "5e05921e-c26f-47e7-bc50-af38528fb91b",
   "metadata": {},
   "source": [
    "**Exercise 1: Create a Jupyter Notebook**\n",
    ">Create a new Jupyter notebook called DataScienceEcosystem.ipynb"
   ]
  },
  {
   "cell_type": "markdown",
   "id": "e7b339d3-4581-44b0-94a8-4cf234801199",
   "metadata": {},
   "source": [
    "**Exercice 2: Create markdown cell with the title of the notebook**\n",
    "> Create a markdown cell with the title Data Science Tools and Ecosystem using H1 style heading.\r\n",
    "Take a screenshot of the markdown cell and name it a  2-title.png (Images can be saved with either the .jpg or .png extension.)"
   ]
  },
  {
   "cell_type": "markdown",
   "id": "c1d12fc0-a023-4d40-b360-cf401a6436c0",
   "metadata": {},
   "source": [
    "# Data Science Tools and Ecosystem"
   ]
  },
  {
   "cell_type": "markdown",
   "id": "987997c6-f2c6-415f-9df3-76aa0e5c8953",
   "metadata": {},
   "source": [
    "**Exercice 3: Create a markdown cell for an introduction**\n",
    "> Write an introductory sentence about the notebook such as the follows:\n",
    "<code>\r\n",
    "In this notebook, Data Science Tools and Ecosystem are summarized.\r\n",
    "Take a screenshot of the markdown cell and name it as 3-intro.</code>n.)"
   ]
  },
  {
   "cell_type": "markdown",
   "id": "c19843ec-b40f-4103-881d-60ecd2a62e29",
   "metadata": {},
   "source": [
    "## Introduction\n",
    "In this notebook, Data Science Tools and Ecosystem are summarized."
   ]
  },
  {
   "cell_type": "markdown",
   "id": "a387cf96-a7a6-49a8-936d-1e0b5448f42e",
   "metadata": {},
   "source": [
    "**Objectives**\n",
    "\n",
    "* List popular languages for data science\n",
    "* List some commonly used data science librairies\n",
    "* List some tools for Data Science\n",
    "* Perform some arithmetic operations with python\n",
    "* Use markdown cells in Jupyter notebook"
   ]
  },
  {
   "cell_type": "markdown",
   "id": "8a1c9d32-37ad-443c-9fa4-d194cba7173a",
   "metadata": {},
   "source": [
    "**Exercise 4 - Create a markdown cell to list data science languages**ence.sion.)"
   ]
  },
  {
   "cell_type": "markdown",
   "id": "30ae14d1-8eef-4e6c-a487-8049d1437c06",
   "metadata": {},
   "source": [
    "<p style=\"color:blue\">Some of the popular languages Data Scientists use are :</p>\n",
    "\n",
    "1. Python\n",
    "2. R\n",
    "3. Scala\n",
    "4. Julia"
   ]
  },
  {
   "cell_type": "markdown",
   "id": "d52e8586-c056-40b4-a775-fb94989b1c2f",
   "metadata": {},
   "source": [
    "**Exercice 5: Create a markdown cell to list Data Science libraries**"
   ]
  },
  {
   "cell_type": "markdown",
   "id": "dd40bf44-b313-4e00-aa71-0019f47a2d72",
   "metadata": {},
   "source": [
    "<p style=\"color: blue\" >Some of the commonly used Data Science libraries are :</p>\n",
    "\n",
    "1. Scikit-learn\n",
    "2. TensorFlow\n",
    "3. PyTorch\n",
    "4. Numpy\n",
    "5. Pandas\n",
    "6. Matplotlib"
   ]
  },
  {
   "cell_type": "markdown",
   "id": "9df8025d-76cf-47d1-ac5c-dfaa277f8600",
   "metadata": {},
   "source": [
    "**Exercice 5: Create a markdown cell with a table of Data Science Tools**"
   ]
  },
  {
   "cell_type": "markdown",
   "id": "f5af15a2-0683-4790-ae9e-b25f862b69a8",
   "metadata": {},
   "source": [
    "|Data Science Tools|\n",
    "|------------------|\n",
    "|PyCharm|\n",
    "|RStudio|\n",
    "|JupyterLab|\n",
    "|Spyder|\n"
   ]
  },
  {
   "cell_type": "markdown",
   "id": "943db0e2-950d-493b-96a0-5f132d148d66",
   "metadata": {},
   "source": [
    "**Exercise 7 - Create a markdown cell introducing arithmetic expression examples**"
   ]
  },
  {
   "cell_type": "markdown",
   "id": "31504ebe-bf50-4164-99f8-61f731444a07",
   "metadata": {},
   "source": [
    "### Below are a few examples of evaluating arithmetic expressions in python\n"
   ]
  },
  {
   "cell_type": "markdown",
   "id": "07876390-922c-4fae-83b7-d23af63f88fd",
   "metadata": {},
   "source": [
    "**Exercise 8 - Create a code cell to multiply and add number**"
   ]
  },
  {
   "cell_type": "code",
   "execution_count": 2,
   "id": "a12460a4-9b1a-413f-a977-bfcbabcbf1be",
   "metadata": {},
   "outputs": [
    {
     "data": {
      "text/plain": [
       "17"
      ]
     },
     "execution_count": 2,
     "metadata": {},
     "output_type": "execute_result"
    }
   ],
   "source": [
    "# This a simple arithmetic expression to mutiply then add integers\n",
    "(3*4)+5"
   ]
  },
  {
   "cell_type": "markdown",
   "id": "915141bf-9e87-4f82-b820-90ef0cdf3463",
   "metadata": {},
   "source": [
    "**Exercise 9 - Create a code cell to convert minutes to hours**"
   ]
  },
  {
   "cell_type": "code",
   "execution_count": 6,
   "id": "76e058ab-ec61-4d80-b9f3-ddcdafc409b3",
   "metadata": {},
   "outputs": [
    {
     "data": {
      "text/plain": [
       "3.3333333333333335"
      ]
     },
     "execution_count": 6,
     "metadata": {},
     "output_type": "execute_result"
    }
   ],
   "source": [
    "# This will convert 200 minutes to hours by diving by 60\n",
    "minutes = 200\n",
    "hours  = m/60\n",
    "hours"
   ]
  },
  {
   "cell_type": "markdown",
   "id": "7d1d6cf3-7ff3-484c-bb6d-4a33d5b7ad2d",
   "metadata": {},
   "source": [
    "**Exercise 10 - Insert a markdown cell to list Objectives**\n",
    "> Below the introduction cell created in Exercise 3, insert a new markdown cell to list the objectives that this notebook covered."
   ]
  },
  {
   "cell_type": "markdown",
   "id": "8f4f9483-467f-4d25-8b1d-bd2ca04759fe",
   "metadata": {},
   "source": [
    "**Exercise 11 - Create a markdown cell to indicate the Author's name**"
   ]
  },
  {
   "cell_type": "markdown",
   "id": "a8c5f526-527a-404f-8587-662f79fe4fc4",
   "metadata": {},
   "source": [
    "## Author\n",
    "<p style=\"color: blue\">Rodolpho AKAKPO</p>"
   ]
  },
  {
   "cell_type": "code",
   "execution_count": null,
   "id": "0a741db3-4884-4136-be9d-5a52ed912f79",
   "metadata": {},
   "outputs": [],
   "source": []
  }
 ],
 "metadata": {
  "kernelspec": {
   "display_name": "Python 3 (ipykernel)",
   "language": "python",
   "name": "python3"
  },
  "language_info": {
   "codemirror_mode": {
    "name": "ipython",
    "version": 3
   },
   "file_extension": ".py",
   "mimetype": "text/x-python",
   "name": "python",
   "nbconvert_exporter": "python",
   "pygments_lexer": "ipython3",
   "version": "3.11.5"
  }
 },
 "nbformat": 4,
 "nbformat_minor": 5
}
